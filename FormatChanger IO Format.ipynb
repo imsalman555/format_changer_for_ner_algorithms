{
 "cells": [
  {
   "cell_type": "code",
   "execution_count": 1,
   "metadata": {},
   "outputs": [],
   "source": [
    "import pandas as pd"
   ]
  },
  {
   "cell_type": "code",
   "execution_count": 2,
   "metadata": {},
   "outputs": [
    {
     "data": {
      "text/plain": [
       "0    Inn sabko rokna kiski zimedaari thi? <PER--Naw...\n",
       "1    Bawarchi ke is jurm par muqami adalat nay mulz...\n",
       "2    ab muhjay aj market jana hia chacha k sath aur...\n",
       "3    Birthday of Aussies magical leg Spinner <PER--...\n",
       "4                                 youtube py chk kr ly\n",
       "Name: tagged, dtype: object"
      ]
     },
     "execution_count": 2,
     "metadata": {},
     "output_type": "execute_result"
    }
   ],
   "source": [
    "tagged = pd.read_excel('./train.xlsx')\n",
    "tagged = tagged['tagged']\n",
    "tagged.head(5)"
   ]
  },
  {
   "cell_type": "code",
   "execution_count": 3,
   "metadata": {},
   "outputs": [],
   "source": [
    "def findNE(word, stillanentity):\n",
    "    \n",
    "    if word.startswith('<PER') == True:\n",
    "        if word.endswith('>') == True:\n",
    "            stillanentity = 'O'\n",
    "            return word[6:len(word)-1], 'I-PER', stillanentity\n",
    "        else:\n",
    "            stillanentity = 'I-PER'\n",
    "            return word[6:len(word)], 'I-PER', stillanentity\n",
    "        \n",
    "    elif word.startswith('<ORG') == True:\n",
    "        if word.endswith('>') == True:\n",
    "            stillanentity = 'O'\n",
    "            return word[6:len(word)-1], 'I-ORG', stillanentity\n",
    "        else:\n",
    "            stillanentity = 'I-ORG'\n",
    "            return word[6:len(word)], 'I-ORG', stillanentity\n",
    "        \n",
    "    elif word.startswith('<LOC') == True:\n",
    "        if word.endswith('>') == True:\n",
    "            stillanentity = 'O'\n",
    "            return word[6:len(word)-1], 'I-LOC', stillanentity\n",
    "        else: \n",
    "            stillanentity = 'I-LOC'\n",
    "            return word[6:len(word)], 'I-LOC', stillanentity\n",
    "        \n",
    "    else:\n",
    "        if stillanentity == 'O':\n",
    "            return word, 'O', stillanentity\n",
    "        else:\n",
    "            if word.endswith('>') == True:\n",
    "                if stillanentity == 'I-PER':\n",
    "                    preventity = 'I-PER'\n",
    "                elif stillanentity == 'I-ORG':\n",
    "                    preventity = 'I-ORG'\n",
    "                else:\n",
    "                    preventity = 'I-LOC'\n",
    "                stillanentity = 'O'\n",
    "                return word[:len(word)-1], preventity, stillanentity\n",
    "            else:\n",
    "                return word[:len(word)], stillanentity, stillanentity"
   ]
  },
  {
   "cell_type": "code",
   "execution_count": 4,
   "metadata": {},
   "outputs": [
    {
     "data": {
      "text/plain": [
       "14"
      ]
     },
     "execution_count": 4,
     "metadata": {},
     "output_type": "execute_result"
    }
   ],
   "source": [
    "new_file = open('./train.conll', 'w', encoding='utf-8')\n",
    "new_file.write('-DOCSTART- O\\n\\n')"
   ]
  },
  {
   "cell_type": "code",
   "execution_count": 5,
   "metadata": {},
   "outputs": [],
   "source": [
    "for line in tagged:\n",
    "    stillanentity = 'O'\n",
    "    line = line.encode('ascii', 'ignore')\n",
    "    line = line.decode()\n",
    "    line = line.replace('.', ' . ')\n",
    "    line = line.replace(',', ' , ')\n",
    "    line = line.replace('(', ' ( ')\n",
    "    line = line.replace(')', ' ) ')\n",
    "    line = line.replace('!', ' ! ')\n",
    "    line = line.replace('\"', '')\n",
    "    line = line.replace(\"'\", \"\")\n",
    "    \n",
    "    for word in line.split():\n",
    "        w, entity, stillanentity = findNE(word, stillanentity)\n",
    "        new_file.write(w + ' ' + entity + '\\n')\n",
    "    new_file.write('\\n')"
   ]
  },
  {
   "cell_type": "code",
   "execution_count": 6,
   "metadata": {},
   "outputs": [],
   "source": [
    "new_file.close()"
   ]
  },
  {
   "cell_type": "code",
   "execution_count": null,
   "metadata": {},
   "outputs": [],
   "source": []
  },
  {
   "cell_type": "code",
   "execution_count": null,
   "metadata": {},
   "outputs": [],
   "source": []
  },
  {
   "cell_type": "code",
   "execution_count": null,
   "metadata": {},
   "outputs": [],
   "source": []
  },
  {
   "cell_type": "code",
   "execution_count": null,
   "metadata": {},
   "outputs": [],
   "source": []
  }
 ],
 "metadata": {
  "kernelspec": {
   "display_name": "Python 3",
   "language": "python",
   "name": "python3"
  },
  "language_info": {
   "codemirror_mode": {
    "name": "ipython",
    "version": 3
   },
   "file_extension": ".py",
   "mimetype": "text/x-python",
   "name": "python",
   "nbconvert_exporter": "python",
   "pygments_lexer": "ipython3",
   "version": "3.8.5"
  }
 },
 "nbformat": 4,
 "nbformat_minor": 4
}
