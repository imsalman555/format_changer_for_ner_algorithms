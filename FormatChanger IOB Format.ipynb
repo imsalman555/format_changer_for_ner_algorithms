{
 "cells": [
  {
   "cell_type": "code",
   "execution_count": 55,
   "metadata": {},
   "outputs": [],
   "source": [
    "import pandas as pd"
   ]
  },
  {
   "cell_type": "code",
   "execution_count": 56,
   "metadata": {},
   "outputs": [
    {
     "data": {
      "text/plain": [
       "0    <ORG--Soorajpur police station> ke station hou...\n",
       "1    Shahi awam aur berooni media ne kayi martaba <...\n",
       "2    <LOC--Hindustan> mein munaqidah pichlle muqabl...\n",
       "3    Isi tournament ke Semi Final mein <LOC--Hindus...\n",
       "4     3 ashray qabal misrion ki tadaad 57 million thi.\n",
       "Name: tagged, dtype: object"
      ]
     },
     "execution_count": 56,
     "metadata": {},
     "output_type": "execute_result"
    }
   ],
   "source": [
    "tagged = pd.read_excel('./train.xlsx')\n",
    "tagged = tagged['tagged']\n",
    "tagged.head(5)"
   ]
  },
  {
   "cell_type": "code",
   "execution_count": 57,
   "metadata": {},
   "outputs": [],
   "source": [
    "def findNE(word, stillanentity):\n",
    "    \n",
    "    if word.startswith('<PER') == True:\n",
    "        if word.endswith('>') == True:\n",
    "            stillanentity = 'O'\n",
    "            return word[6:len(word)-1], 'B-per', stillanentity\n",
    "        else:\n",
    "            stillanentity = 'I-per'\n",
    "            return word[6:len(word)], 'B-per', stillanentity\n",
    "        \n",
    "    elif word.startswith('<ORG') == True:\n",
    "        if word.endswith('>') == True:\n",
    "            stillanentity = 'O'\n",
    "            return word[6:len(word)-1], 'B-org', stillanentity\n",
    "        else:\n",
    "            stillanentity = 'I-org'\n",
    "            return word[6:len(word)], 'B-org', stillanentity\n",
    "        \n",
    "    elif word.startswith('<LOC') == True:\n",
    "        if word.endswith('>') == True:\n",
    "            stillanentity = 'O'\n",
    "            return word[6:len(word)-1], 'B-loc', stillanentity\n",
    "        else: \n",
    "            stillanentity = 'I-loc'\n",
    "            return word[6:len(word)], 'B-loc', stillanentity\n",
    "        \n",
    "    else:\n",
    "        if stillanentity == 'O':\n",
    "            return word, 'O', stillanentity\n",
    "        else:\n",
    "            if word.endswith('>') == True:\n",
    "                if stillanentity == 'I-per':\n",
    "                    preventity = 'I-per'\n",
    "                elif stillanentity == 'I-org':\n",
    "                    preventity = 'I-org'\n",
    "                else:\n",
    "                    preventity = 'I-loc'\n",
    "                stillanentity = 'O'\n",
    "                return word[:len(word)-1], preventity, stillanentity\n",
    "            else:\n",
    "                return word[:len(word)], stillanentity, stillanentity"
   ]
  },
  {
   "cell_type": "code",
   "execution_count": 67,
   "metadata": {},
   "outputs": [
    {
     "data": {
      "text/plain": [
       "22"
      ]
     },
     "execution_count": 67,
     "metadata": {},
     "output_type": "execute_result"
    }
   ],
   "source": [
    "new_file = open('./train.csv', 'w', encoding='utf-8')\n",
    "new_file.write('Sentence,Word,POS,Tag\\n')"
   ]
  },
  {
   "cell_type": "code",
   "execution_count": 68,
   "metadata": {},
   "outputs": [],
   "source": [
    "line_count = 1\n",
    "for line in tagged:\n",
    "    stillanentity = 'O'\n",
    "    line = line.encode('ascii', 'ignore')\n",
    "    line = line.decode()\n",
    "    line = line.replace('.', ' . ')\n",
    "    line = line.replace(',', ' +-+- ')\n",
    "    line = line.replace('(', ' ( ')\n",
    "    line = line.replace(')', ' ) ')\n",
    "    line = line.replace('!', ' ! ')\n",
    "    line = line.replace('\"', '')\n",
    "    line = line.replace(\"'\", \"\")\n",
    "    \n",
    "    new_file.write('Sentence: {},'.format(line_count))\n",
    "    \n",
    "    for word in line.split():\n",
    "        w, entity, stillanentity = findNE(word, stillanentity)\n",
    "        new_file.write(w + ',IN,' + entity + \"\\n,\")\n",
    "    line_count = line_count + 1\n",
    "    new_file.write('\\n')"
   ]
  },
  {
   "cell_type": "code",
   "execution_count": 69,
   "metadata": {},
   "outputs": [],
   "source": [
    "new_file.close()"
   ]
  },
  {
   "cell_type": "code",
   "execution_count": null,
   "metadata": {},
   "outputs": [],
   "source": []
  },
  {
   "cell_type": "code",
   "execution_count": null,
   "metadata": {},
   "outputs": [],
   "source": []
  },
  {
   "cell_type": "code",
   "execution_count": null,
   "metadata": {},
   "outputs": [],
   "source": []
  },
  {
   "cell_type": "code",
   "execution_count": null,
   "metadata": {},
   "outputs": [],
   "source": []
  }
 ],
 "metadata": {
  "kernelspec": {
   "display_name": "Python 3",
   "language": "python",
   "name": "python3"
  },
  "language_info": {
   "codemirror_mode": {
    "name": "ipython",
    "version": 3
   },
   "file_extension": ".py",
   "mimetype": "text/x-python",
   "name": "python",
   "nbconvert_exporter": "python",
   "pygments_lexer": "ipython3",
   "version": "3.8.5"
  }
 },
 "nbformat": 4,
 "nbformat_minor": 4
}
